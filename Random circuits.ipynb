{
 "cells": [
  {
   "cell_type": "markdown",
   "id": "9e65171c",
   "metadata": {},
   "source": [
    "# Task 4 Random Circuits\n"
   ]
  },
  {
   "cell_type": "markdown",
   "id": "0e43117f",
   "metadata": {},
   "source": [
    "Design a function that generates a random quantum circuit by considering as parameters the number of qubits, the number of depths, and the base of gates to be used.\n",
    "You could only use the quantum gates of 1 and 2 qubits"
   ]
  },
  {
   "cell_type": "markdown",
   "id": "66e757b2",
   "metadata": {},
   "source": [
    "### Installing necessary packages"
   ]
  },
  {
   "cell_type": "markdown",
   "id": "3618fc3a",
   "metadata": {},
   "source": [
    "Before we begin, you will need to install some prerequisites into your environment. Run the cell below to complete these installations. At the end, the cell outputs will be cleared."
   ]
  },
  {
   "cell_type": "code",
   "execution_count": null,
   "id": "8e2a914f",
   "metadata": {},
   "outputs": [],
   "source": [
    "!pip install -U -r resources/requirements.txt\n",
    "\n",
    "from IPython.display import clear_output\n",
    "clear_output()"
   ]
  },
  {
   "cell_type": "markdown",
   "id": "89000e22",
   "metadata": {},
   "source": [
    "#### Importing necessary librarys"
   ]
  },
  {
   "cell_type": "code",
   "execution_count": null,
   "id": "d3edb35f",
   "metadata": {},
   "outputs": [],
   "source": [
    "import numpy as np\n",
    "\n",
    "from qiskit.circuit import QuantumRegister, ClassicalRegister, QuantumCircuit\n",
    "from qiskit.circuit import Reset\n",
    "from qiskit.circuit.library.standard_gates import (IGate, U1Gate, U2Gate, U3Gate, XGate,\n",
    "                                                   YGate, ZGate, HGate, SGate, SdgGate, TGate,\n",
    "                                                   TdgGate, RXGate, RYGate, RZGate, CXGate,\n",
    "                                                   CYGate, CZGate, CHGate, CRZGate, CU1Gate,\n",
    "                                                   CU3Gate, SwapGate, RZZGate,\n",
    "                                                   CCXGate, CSwapGate)\n",
    "from qiskit.circuit.exceptions import CircuitError\n",
    "from qiskit.util import deprecate_arguments"
   ]
  },
  {
   "cell_type": "code",
   "execution_count": null,
   "id": "b6081eba",
   "metadata": {},
   "outputs": [],
   "source": [
    "def gates_division(gates):\n",
    "    \n",
    "    # function to seperate given gates into 1,2 qubits gates and 1,2,3 parameter gates \n",
    "    one_q_ops = [IGate, U1Gate, U2Gate, U3Gate, XGate, YGate, ZGate,\n",
    "                 HGate, SGate, SdgGate, TGate, TdgGate, RXGate, RYGate, RZGate]\n",
    "    one_param = [U1Gate, RXGate, RYGate, RZGate, RZZGate, CU1Gate, CRZGate]\n",
    "    two_param = [U2Gate]\n",
    "    three_param = [U3Gate, CU3Gate]\n",
    "    two_q_ops = [CXGate, CYGate, CZGate, CHGate, CRZGate,\n",
    "                 CU1Gate, CU3Gate, SwapGate, RZZGate]\n",
    "    one_q_opsg,one_paramg,two_paramg,three_paramg,two_q_opsg=[],[],[],[],[]\n",
    "    for gate in gates:\n",
    "        if gate in one_q_ops:\n",
    "            one_q_opsg.append(gate)\n",
    "        if gate in one_param:\n",
    "            one_paramg.append(gate)\n",
    "        if gate in two_param:\n",
    "            two_paramg.append(gate)\n",
    "        if gate in three_param:\n",
    "            three_paramg.append(gate)\n",
    "        if gate in two_q_ops:\n",
    "            two_q_opsg.append(gate)\n",
    "      \n",
    "    return one_q_opsg,one_paramg,two_paramg,three_paramg,two_q_opsg\n"
   ]
  },
  {
   "cell_type": "code",
   "execution_count": null,
   "id": "aa5df9e1",
   "metadata": {},
   "outputs": [],
   "source": [
    "def random_circuit(num_qubits, depth,basis_gates, measure=False,\n",
    "                   reset=False):\n",
    "    \"\"\"Generate random circuit of arbitrary size and form.\n",
    "\n",
    "    This function will generate a random circuit by randomly selecting gates\n",
    "    from the set of standard gates in :mod:`qiskit.extensions`. For example:\n",
    "\n",
    "    .. jupyter-execute::\n",
    "\n",
    "        circ = random_circuit(2, 2, measure=True)\n",
    "        circ.draw(output='mpl')\n",
    "\n",
    "    Args:\n",
    "        num_qubits (int): number of quantum wires\n",
    "        depth (int): layers of operations (i.e. critical path length)\n",
    "        basis_gates(list): A list that contains the basis gates to generate the quantum circuit\n",
    "        measure (bool): if True, measure all qubits at the end\n",
    "        reset (bool): if True, insert middle resets\n",
    "\n",
    "    Returns:\n",
    "        QuantumCircuit: constructed circuit\"\"\"\n",
    "\n",
    "    #calling the gates divison function \n",
    "    one_q_ops,one_param,two_param,three_param,two_q_ops=gates_division(basis_gates)\n",
    "    \n",
    "    # creating a quantum circuit\n",
    "    qr = QuantumRegister(num_qubits, 'q')\n",
    "    qc = QuantumCircuit(num_qubits)\n",
    "\n",
    "    if measure :\n",
    "        cr = ClassicalRegister(num_qubits, 'c')\n",
    "        qc.add_register(cr)\n",
    "\n",
    "    if reset:\n",
    "        one_q_ops += [Reset]\n",
    "\n",
    "\n",
    "    seed = np.random.randint(0, np.iinfo(np.int32).max)\n",
    "    rng = np.random.default_rng(seed)\n",
    "\n",
    "    # apply arbitrary random operations at every depth\n",
    "    for _ in range(depth):\n",
    "        # choose either 1 or 2 qubits for the operation\n",
    "        remaining_qubits = list(range(num_qubits))\n",
    "        while remaining_qubits:\n",
    "            max_possible_operands = min(len(remaining_qubits),2)\n",
    "            num_operands = rng.choice(range(max_possible_operands)) + 1\n",
    "            rng.shuffle(remaining_qubits)\n",
    "            operands = remaining_qubits[:num_operands]\n",
    "            remaining_qubits = [q for q in remaining_qubits if q not in operands]\n",
    "            if num_operands == 1:\n",
    "                operation = rng.choice(one_q_ops)\n",
    "            elif num_operands == 2:\n",
    "                operation = rng.choice(two_q_ops)\n",
    "            if operation in one_param:\n",
    "                num_angles = 1\n",
    "            elif operation in two_param:\n",
    "                num_angles = 2\n",
    "            elif operation in three_param:\n",
    "                num_angles = 3\n",
    "            else:\n",
    "                num_angles = 0\n",
    "            angles = [rng.uniform(0, 2 * np.pi) for x in range(num_angles)]\n",
    "            register_operands = [qr[i] for i in operands]\n",
    "            op = operation(*angles)\n",
    "\n",
    "\n",
    "            qc.append(op, register_operands)\n",
    "\n",
    "    if measure:\n",
    "        qc.measure(qr, cr)\n",
    "\n",
    "    return qc"
   ]
  },
  {
   "cell_type": "code",
   "execution_count": null,
   "id": "327ac931",
   "metadata": {},
   "outputs": [],
   "source": [
    "num_qubits =5\n",
    "depth=3\n",
    "basis_gates=[IGate, U1Gate, U2Gate, XGate, ZGate,HGate, SGate, SdgGate, TdgGate, RYGate, RZGate,CYGate,U3Gate]\n",
    "\n",
    "circ=random_circuit(num_qubits, depth,basis_gates)\n",
    "circ.draw('mpl')\n"
   ]
  },
  {
   "cell_type": "code",
   "execution_count": null,
   "id": "cf864e65",
   "metadata": {},
   "outputs": [],
   "source": [
    "circ.depth()"
   ]
  },
  {
   "cell_type": "code",
   "execution_count": null,
   "id": "63669db9",
   "metadata": {},
   "outputs": [],
   "source": []
  }
 ],
 "metadata": {
  "kernelspec": {
   "display_name": "qiskit",
   "language": "python",
   "name": "qiskit-stable"
  },
  "language_info": {
   "codemirror_mode": {
    "name": "ipython",
    "version": 3
   },
   "file_extension": ".py",
   "mimetype": "text/x-python",
   "name": "python",
   "nbconvert_exporter": "python",
   "pygments_lexer": "ipython3",
   "version": "3.9.12"
  }
 },
 "nbformat": 4,
 "nbformat_minor": 5
}
