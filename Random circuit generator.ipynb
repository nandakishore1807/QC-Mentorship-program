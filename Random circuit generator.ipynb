{
 "cells": [
  {
   "cell_type": "markdown",
   "id": "9e65171c",
   "metadata": {},
   "source": [
    "# Task 4 Random Circuits\n"
   ]
  },
  {
   "cell_type": "markdown",
   "id": "0e43117f",
   "metadata": {},
   "source": [
    "Design a function that generates a random quantum circuit by considering as parameters the number of qubits, the number of depths, and the base of gates to be used.\n",
    "You could only use the quantum gates of 1 and 2 qubits"
   ]
  },
  {
   "cell_type": "markdown",
   "id": "66e757b2",
   "metadata": {},
   "source": [
    "### Installing necessary packages"
   ]
  },
  {
   "cell_type": "markdown",
   "id": "3618fc3a",
   "metadata": {},
   "source": [
    "Before we begin, you will need to install some prerequisites into your environment. Run the cell below to complete these installations. At the end, the cell outputs will be cleared."
   ]
  },
  {
   "cell_type": "code",
   "execution_count": 1,
   "id": "8e2a914f",
   "metadata": {},
   "outputs": [],
   "source": [
    "!pip install  -U -r resources/requirements.txt\n",
    "\n",
    "from IPython.display import clear_output\n",
    "clear_output()"
   ]
  },
  {
   "cell_type": "markdown",
   "id": "89000e22",
   "metadata": {},
   "source": [
    "#### Importing necessary librarys"
   ]
  },
  {
   "cell_type": "code",
   "execution_count": 2,
   "id": "d3edb35f",
   "metadata": {},
   "outputs": [],
   "source": [
    "import numpy as np\n",
    "\n",
    "from qiskit.circuit import QuantumRegister, ClassicalRegister, QuantumCircuit\n",
    "from qiskit.circuit import Reset\n",
    "from qiskit.circuit.library.standard_gates import (IGate, U1Gate, U2Gate, U3Gate, XGate,\n",
    "                                                   YGate, ZGate, HGate, SGate, SdgGate, TGate,\n",
    "                                                   TdgGate, RXGate, RYGate, RZGate, CXGate,\n",
    "                                                   CYGate, CZGate, CHGate, CRZGate, CU1Gate,\n",
    "                                                   CU3Gate, SwapGate, RZZGate,\n",
    "                                                   CCXGate, CSwapGate)\n",
    "from qiskit.circuit.exceptions import CircuitError\n",
    "from qiskit.util import deprecate_arguments"
   ]
  },
  {
   "cell_type": "code",
   "execution_count": 3,
   "id": "b6081eba",
   "metadata": {},
   "outputs": [],
   "source": [
    "def gates_division(gates):\n",
    "    \n",
    "    if len(gates)==0:\n"
    "         raise CircuitError("atleast 1 gate must be given")\n"
    "    # function to seperate given gates into 1,2 qubits gates and 1,2,3 parameter gates \n",
    "    one_q_ops = [IGate, U1Gate, U2Gate, U3Gate, XGate, YGate, ZGate,\n",
    "                 HGate, SGate, SdgGate, TGate, TdgGate, RXGate, RYGate, RZGate]\n",
    "    one_param = [U1Gate, RXGate, RYGate, RZGate, RZZGate, CU1Gate, CRZGate]\n",
    "    two_param = [U2Gate]\n",
    "    three_param = [U3Gate, CU3Gate]\n",
    "    two_q_ops = [CXGate, CYGate, CZGate, CHGate, CRZGate,\n",
    "                 CU1Gate, CU3Gate, SwapGate, RZZGate]\n",
    "    one_q_opsg,one_paramg,two_paramg,three_paramg,two_q_opsg=[],[],[],[],[]\n",
    "    for gate in gates:\n",
    "        if gate in one_q_ops:\n",
    "            one_q_opsg.append(gate)\n",
    "        if gate in one_param:\n",
    "            one_paramg.append(gate)\n",
    "        if gate in two_param:\n",
    "            two_paramg.append(gate)\n",
    "        if gate in three_param:\n",
    "            three_paramg.append(gate)\n",
    "        if gate in two_q_ops:\n",
    "            two_q_opsg.append(gate)\n",
    "      \n",
    "    return one_q_opsg,one_paramg,two_paramg,three_paramg,two_q_opsg\n"
   ]
  },
  {
   "cell_type": "code",
   "execution_count": 4,
   "id": "aa5df9e1",
   "metadata": {},
   "outputs": [],
   "source": [
    "def random_circuit(num_qubits, depth,basis_gates, measure=False,\n",
    "                   reset=False):\n",
    "    \"\"\"Generate random circuit of arbitrary size and form.\n",
    "\n",
    "    This function will generate a random circuit by randomly selecting gates\n",
    "    from the set of standard gates in :mod:`qiskit.extensions`. For example:\n",
    "\n",
    "    .. jupyter-execute::\n",
    "\n",
    "        circ = random_circuit(2, 2,[IGate, U1Gate, U2Gate, U3Gate, XGate, YGate], measure=True)\n",
    "        circ.draw(output='mpl')\n",
    "\n",
    "    Args:\n",
    "        num_qubits (int): number of quantum wires\n",
    "        depth (int): layers of operations (i.e. critical path length)\n",
    "        basis_gates(list): A list that contains the basis gates to generate the quantum circuit\n",
    "        measure (bool): if True, measure all qubits at the end\n",
    "        reset (bool): if True, insert middle resets\n",
    "\n",
    "    Returns:\n",
    "        QuantumCircuit: constructed circuit,
    "\n",
    "    Raises:\n",
    "        CircuitError: when invalid options given\"\"\"\n",
    "\n",
    "    #calling the gates divison function \n",
    "    one_q_ops,one_param,two_param,three_param,two_q_ops=gates_division(basis_gates)\n",
    "    \n",
    "    # creating a quantum circuit\n",
    "    qr = QuantumRegister(num_qubits, 'q')\n",
    "    qc = QuantumCircuit(num_qubits)\n",
    "\n",
    "    if measure :\n",
    "        cr = ClassicalRegister(num_qubits, 'c')\n",
    "        qc.add_register(cr)\n",
    "\n",
    "    if reset:\n",
    "        one_q_ops += [Reset]\n",
    "\n",
    "\n",
    "    seed = np.random.randint(0, np.iinfo(np.int32).max)\n",
    "    rng = np.random.default_rng(seed)\n",
    "\n",
    "    # apply arbitrary random operations at every depth\n",
    "    for _ in range(depth):\n",
    "        # choose either 1 or 2 qubits for the operation\n",
    "        remaining_qubits = list(range(num_qubits))\n",
    "        while remaining_qubits:\n",
    "            max_possible_operands = min(len(remaining_qubits),2)\n",
    "            num_operands = rng.choice(range(max_possible_operands)) + 1\n",
    "            rng.shuffle(remaining_qubits)\n",
    "            operands = remaining_qubits[:num_operands]\n",
    "            remaining_qubits = [q for q in remaining_qubits if q not in operands]\n",
    "            if num_operands == 1:\n",
    "                operation = rng.choice(one_q_ops)\n",
    "            elif num_operands == 2:\n",
    "                operation = rng.choice(two_q_ops)\n",
    "            if operation in one_param:\n",
    "                num_angles = 1\n",
    "            elif operation in two_param:\n",
    "                num_angles = 2\n",
    "            elif operation in three_param:\n",
    "                num_angles = 3\n",
    "            else:\n",
    "                num_angles = 0\n",
    "            angles = [rng.uniform(0, 2 * np.pi) for x in range(num_angles)]\n",
    "            register_operands = [qr[i] for i in operands]\n",
    "            op = operation(*angles)\n",
    "\n",
    "\n",
    "            qc.append(op, register_operands)\n",
    "\n",
    "    if measure:\n",
    "        qc.measure(qr, cr)\n",
    "\n",
    "    return qc"
   ]
  },
  {
   "cell_type": "code",
   "execution_count": 5,
   "id": "327ac931",
   "metadata": {},
   "outputs": [
    {
     "data": {
      "image/png": "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\n",
      "text/plain": [
       "<Figure size 507.997x325.08 with 1 Axes>"
      ]
     },
     "execution_count": 5,
     "metadata": {},
     "output_type": "execute_result"
    }
   ],
   "source": [
    "num_qubits =5\n",
    "depth=3\n",
    "basis_gates=[IGate, U1Gate, U2Gate, XGate, ZGate,HGate, SGate, SdgGate, TdgGate, RYGate, RZGate,CYGate,U3Gate]\n",
    "\n",
    "circ=random_circuit(num_qubits, depth,basis_gates)\n",
    "circ.draw('mpl')\n"
   ]
  },
  {
   "cell_type": "code",
   "execution_count": 6,
   "id": "cf864e65",
   "metadata": {},
   "outputs": [
    {
     "data": {
      "text/plain": [
       "3"
      ]
     },
     "execution_count": 6,
     "metadata": {},
     "output_type": "execute_result"
    }
   ],
   "source": [
    "circ.depth()"
   ]
  },
  {
   "cell_type": "code",
   "execution_count": null,
   "id": "63669db9",
   "metadata": {},
   "outputs": [],
   "source": []
  }
 ],
 "metadata": {
  "kernelspec": {
   "display_name": "qiskit",
   "language": "python",
   "name": "qiskit-stable"
  },
  "language_info": {
   "codemirror_mode": {
    "name": "ipython",
    "version": 3
   },
   "file_extension": ".py",
   "mimetype": "text/x-python",
   "name": "python",
   "nbconvert_exporter": "python",
   "pygments_lexer": "ipython3",
   "version": "3.9.12"
  }
 },
 "nbformat": 4,
 "nbformat_minor": 5
}
